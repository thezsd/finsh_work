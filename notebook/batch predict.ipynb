{
 "cells": [
  {
   "cell_type": "code",
   "execution_count": 1,
   "metadata": {},
   "outputs": [
    {
     "data": {
      "text/html": [
       "<div>\n",
       "<style scoped>\n",
       "    .dataframe tbody tr th:only-of-type {\n",
       "        vertical-align: middle;\n",
       "    }\n",
       "\n",
       "    .dataframe tbody tr th {\n",
       "        vertical-align: top;\n",
       "    }\n",
       "\n",
       "    .dataframe thead th {\n",
       "        text-align: right;\n",
       "    }\n",
       "</style>\n",
       "<table border=\"1\" class=\"dataframe\">\n",
       "  <thead>\n",
       "    <tr style=\"text-align: right;\">\n",
       "      <th></th>\n",
       "      <th>name</th>\n",
       "      <th>smile</th>\n",
       "    </tr>\n",
       "  </thead>\n",
       "  <tbody>\n",
       "    <tr>\n",
       "      <th>0</th>\n",
       "      <td>乙酰基辅酶A</td>\n",
       "      <td>[C@@H]1(N2C3=C(C(=NC=N3)N)N=C2)O[C@H](COP(OP(O...</td>\n",
       "    </tr>\n",
       "    <tr>\n",
       "      <th>1</th>\n",
       "      <td>丁酰基辅酶A</td>\n",
       "      <td>[C@@H]1(N2C3=C(C(=NC=N3)N)N=C2)O[C@H](COP(OP(O...</td>\n",
       "    </tr>\n",
       "    <tr>\n",
       "      <th>2</th>\n",
       "      <td>己酰基辅酶A</td>\n",
       "      <td>[C@@H]1(N2C3=C(C(=NC=N3)N)N=C2)O[C@H](COP(OP(O...</td>\n",
       "    </tr>\n",
       "    <tr>\n",
       "      <th>3</th>\n",
       "      <td>辛酰基辅酶A</td>\n",
       "      <td>[C@@H]1(N2C3=C(C(=NC=N3)N)N=C2)O[C@H](COP(OP(O...</td>\n",
       "    </tr>\n",
       "    <tr>\n",
       "      <th>4</th>\n",
       "      <td>癸酰基辅酶A</td>\n",
       "      <td>[C@@H]1(N2C3=C(C(=NC=N3)N)N=C2)O[C@H](COP(OP(O...</td>\n",
       "    </tr>\n",
       "    <tr>\n",
       "      <th>5</th>\n",
       "      <td>烷酰基辅酶A</td>\n",
       "      <td>[C@@H]1(N2C3=C(C(=NC=N3)N)N=C2)O[C@H](COP(OP(O...</td>\n",
       "    </tr>\n",
       "    <tr>\n",
       "      <th>6</th>\n",
       "      <td>羟基乙酰基辅酶A</td>\n",
       "      <td>CC(C)(COP([O-])(=O)OP([O-])(=O)OC[C@H]1O[C@H](...</td>\n",
       "    </tr>\n",
       "    <tr>\n",
       "      <th>7</th>\n",
       "      <td>羟基丁酰基辅酶A</td>\n",
       "      <td>CC(C)(COP([O-])(=O)OP([O-])(=O)OC[C@H]1O[C@H](...</td>\n",
       "    </tr>\n",
       "    <tr>\n",
       "      <th>8</th>\n",
       "      <td>羟基己酰基辅酶A</td>\n",
       "      <td>CC(C)(COP([O-])(=O)OP([O-])(=O)OC[C@H]1O[C@H](...</td>\n",
       "    </tr>\n",
       "    <tr>\n",
       "      <th>9</th>\n",
       "      <td>羟基辛酰基辅酶A</td>\n",
       "      <td>CC(C)(COP([O-])(=O)OP([O-])(=O)OC[C@H]1O[C@H](...</td>\n",
       "    </tr>\n",
       "    <tr>\n",
       "      <th>10</th>\n",
       "      <td>羟基癸酰基辅酶A</td>\n",
       "      <td>CC(C)(COP([O-])(=O)OP([O-])(=O)OC[C@H]1O[C@H](...</td>\n",
       "    </tr>\n",
       "    <tr>\n",
       "      <th>11</th>\n",
       "      <td>羟基烷酰基辅酶A</td>\n",
       "      <td>CC(C)(COP([O-])(=O)OP([O-])(=O)OC[C@H]1O[C@H](...</td>\n",
       "    </tr>\n",
       "  </tbody>\n",
       "</table>\n",
       "</div>"
      ],
      "text/plain": [
       "        name                                              smile\n",
       "0     乙酰基辅酶A  [C@@H]1(N2C3=C(C(=NC=N3)N)N=C2)O[C@H](COP(OP(O...\n",
       "1     丁酰基辅酶A  [C@@H]1(N2C3=C(C(=NC=N3)N)N=C2)O[C@H](COP(OP(O...\n",
       "2     己酰基辅酶A  [C@@H]1(N2C3=C(C(=NC=N3)N)N=C2)O[C@H](COP(OP(O...\n",
       "3     辛酰基辅酶A  [C@@H]1(N2C3=C(C(=NC=N3)N)N=C2)O[C@H](COP(OP(O...\n",
       "4     癸酰基辅酶A  [C@@H]1(N2C3=C(C(=NC=N3)N)N=C2)O[C@H](COP(OP(O...\n",
       "5     烷酰基辅酶A  [C@@H]1(N2C3=C(C(=NC=N3)N)N=C2)O[C@H](COP(OP(O...\n",
       "6   羟基乙酰基辅酶A  CC(C)(COP([O-])(=O)OP([O-])(=O)OC[C@H]1O[C@H](...\n",
       "7   羟基丁酰基辅酶A  CC(C)(COP([O-])(=O)OP([O-])(=O)OC[C@H]1O[C@H](...\n",
       "8   羟基己酰基辅酶A  CC(C)(COP([O-])(=O)OP([O-])(=O)OC[C@H]1O[C@H](...\n",
       "9   羟基辛酰基辅酶A  CC(C)(COP([O-])(=O)OP([O-])(=O)OC[C@H]1O[C@H](...\n",
       "10  羟基癸酰基辅酶A  CC(C)(COP([O-])(=O)OP([O-])(=O)OC[C@H]1O[C@H](...\n",
       "11  羟基烷酰基辅酶A  CC(C)(COP([O-])(=O)OP([O-])(=O)OC[C@H]1O[C@H](..."
      ]
     },
     "execution_count": 1,
     "metadata": {},
     "output_type": "execute_result"
    }
   ],
   "source": [
    "import pandas as pd\n",
    "\n",
    "# 读取csv文件\n",
    "df = pd.read_csv('Kcat_Km/subtract.csv')\n",
    "df"
   ]
  },
  {
   "cell_type": "code",
   "execution_count": 2,
   "metadata": {},
   "outputs": [
    {
     "name": "stderr",
     "output_type": "stream",
     "text": [
      "/home/thezsd/anaconda3/envs/Uni/lib/python3.7/site-packages/tqdm/auto.py:21: TqdmWarning: IProgress not found. Please update jupyter and ipywidgets. See https://ipywidgets.readthedocs.io/en/stable/user_install.html\n",
      "  from .autonotebook import tqdm as notebook_tqdm\n"
     ]
    }
   ],
   "source": [
    "import torch\n",
    "from build_vocab import WordVocab\n",
    "from pretrain_trfm import TrfmSeq2seq\n",
    "from utils import split\n",
    "\n",
    "def smiles_to_vec(Smiles):\n",
    "    pad_index = 0\n",
    "    unk_index = 1\n",
    "    eos_index = 2\n",
    "    sos_index = 3\n",
    "    mask_index = 4\n",
    "    vocab = WordVocab.load_vocab('vocab.pkl')\n",
    "    def get_inputs(sm):\n",
    "        seq_len = 220\n",
    "        sm = sm.split()\n",
    "        if len(sm)>218:\n",
    "            print('SMILES is too long ({:d})'.format(len(sm)))\n",
    "            sm = sm[:109]+sm[-109:]\n",
    "        ids = [vocab.stoi.get(token, unk_index) for token in sm]\n",
    "        ids = [sos_index] + ids + [eos_index]\n",
    "        seg = [1]*len(ids)\n",
    "        padding = [pad_index]*(seq_len - len(ids))\n",
    "        ids.extend(padding), seg.extend(padding)\n",
    "        return ids, seg\n",
    "    def get_array(smiles):\n",
    "        x_id, x_seg = [], []\n",
    "        for sm in smiles:\n",
    "            a,b = get_inputs(sm)\n",
    "            x_id.append(a)\n",
    "            x_seg.append(b)\n",
    "        return torch.tensor(x_id), torch.tensor(x_seg)\n",
    "    trfm = TrfmSeq2seq(len(vocab), 256, len(vocab), 4)\n",
    "    trfm.load_state_dict(torch.load('trfm_12_23000.pkl'))\n",
    "    trfm.eval()\n",
    "    x_split = [split(sm) for sm in Smiles]\n",
    "    xid, xseg = get_array(x_split)\n",
    "    X = trfm.encode(torch.t(xid))\n",
    "    return X"
   ]
  },
  {
   "cell_type": "code",
   "execution_count": 5,
   "metadata": {},
   "outputs": [],
   "source": [
    "\n",
    "\n",
    "smiles = df['smile']\n",
    "smile_vec = smiles_to_vec(smiles)\n"
   ]
  },
  {
   "cell_type": "code",
   "execution_count": 6,
   "metadata": {},
   "outputs": [
    {
     "data": {
      "text/plain": [
       "array([[-0.3877925 , -0.5357646 , -0.2123122 , ...,  0.33084196,\n",
       "         1.0447214 ,  0.9510764 ],\n",
       "       [-0.37253132, -0.5077705 , -0.20135523, ...,  0.3890797 ,\n",
       "         1.0488586 ,  0.8964245 ],\n",
       "       [-0.35891196, -0.482783  , -0.19366233, ...,  0.42787895,\n",
       "         1.0407933 ,  0.8760946 ],\n",
       "       ...,\n",
       "       [-0.41737   , -0.45078367,  0.01652827, ...,  0.5933931 ,\n",
       "         0.9796915 ,  0.90317243],\n",
       "       [-0.4182657 , -0.42662555,  0.02667085, ...,  0.6185897 ,\n",
       "         0.97849876,  0.9018276 ],\n",
       "       [-0.4198999 , -0.40217274,  0.03429233, ...,  0.6473827 ,\n",
       "         0.96009356,  0.8951058 ]], dtype=float32)"
      ]
     },
     "execution_count": 6,
     "metadata": {},
     "output_type": "execute_result"
    }
   ],
   "source": [
    "smile_vec"
   ]
  },
  {
   "cell_type": "code",
   "execution_count": 7,
   "metadata": {},
   "outputs": [
    {
     "data": {
      "text/plain": [
       "array([[ 0.04616821,  0.208269  , -0.04209135, ..., -0.16772942,\n",
       "        -0.04448099,  0.13726711],\n",
       "       [-0.04570865,  0.16448402,  0.12490553, ...,  0.04520228,\n",
       "         0.06402141, -0.06056025],\n",
       "       [-0.02437901,  0.17447636, -0.05615647, ..., -0.06087153,\n",
       "        -0.03509357,  0.13177548],\n",
       "       ...,\n",
       "       [ 0.09613732,  0.0862484 ,  0.03010838, ..., -0.06331904,\n",
       "        -0.11094715,  0.19393542],\n",
       "       [ 0.03684049,  0.05652959,  0.00385366, ..., -0.03095414,\n",
       "        -0.02500127,  0.06140285],\n",
       "       [ 0.07750722,  0.07704207,  0.11574969, ..., -0.0240751 ,\n",
       "        -0.02355455,  0.18690695]], dtype=float32)"
      ]
     },
     "execution_count": 7,
     "metadata": {},
     "output_type": "execute_result"
    }
   ],
   "source": [
    "#读入npy数据，只读前1000个\n",
    "import numpy as np\n",
    "pro_vec = np.load('Kcat_Km/modify_fabB1_fadb_nr_rep_0.7_0.7_rep_seq_protein_representations.npy')\n",
    "pro_vec"
   ]
  },
  {
   "cell_type": "code",
   "execution_count": 8,
   "metadata": {},
   "outputs": [
    {
     "data": {
      "text/plain": [
       "(180811, 1280)"
      ]
     },
     "execution_count": 8,
     "metadata": {},
     "output_type": "execute_result"
    }
   ],
   "source": [
    "pro_vec.shape"
   ]
  },
  {
   "cell_type": "code",
   "execution_count": 9,
   "metadata": {},
   "outputs": [
    {
     "name": "stdout",
     "output_type": "stream",
     "text": [
      "乙酰基辅酶A\n",
      "丁酰基辅酶A\n",
      "己酰基辅酶A\n",
      "辛酰基辅酶A\n",
      "癸酰基辅酶A\n",
      "烷酰基辅酶A\n",
      "羟基乙酰基辅酶A\n",
      "羟基丁酰基辅酶A\n",
      "羟基己酰基辅酶A\n",
      "羟基辛酰基辅酶A\n",
      "羟基癸酰基辅酶A\n",
      "羟基烷酰基辅酶A\n"
     ]
    }
   ],
   "source": [
    "# 循# 加载模型并进行预测\n",
    "import pickle\n",
    "import math\n",
    "with open('esm1b_for_kcat_Km.pkl', \"rb\") as f:\n",
    "    pre_model = pickle.load(f)\n",
    "\n",
    "combined_vec = []\n",
    "i = 0\n",
    "for smile in smile_vec:\n",
    "    sub = df['name'][i]\n",
    "    print(sub)\n",
    "    for pro in pro_vec:\n",
    "        # 拼接smile_vec和pro_vec的每一行\n",
    "        combined_vec.append(np.concatenate((smile, pro), axis=0))\n",
    "    Pre_label = pre_model.predict(combined_vec)\n",
    "    Pre_label_pow = [math.pow(10, Pre_label[i]) for i in range(len(Pre_label))]\n",
    "    res = pd.DataFrame({'ligand': sub, 'esm1b': Pre_label_pow})\n",
    "    res.to_csv(f'Kcat_Km/pre_corason_{sub}.csv', mode='a', header=False)\n",
    "    #清空res\n",
    "    res = pd.DataFrame()\n",
    "    #清空combined_vec\n",
    "    combined_vec = []\n",
    "    i += 1\n",
    "\n",
    "\n"
   ]
  }
 ],
 "metadata": {
  "kernelspec": {
   "display_name": "Uni",
   "language": "python",
   "name": "python3"
  },
  "language_info": {
   "codemirror_mode": {
    "name": "ipython",
    "version": 3
   },
   "file_extension": ".py",
   "mimetype": "text/x-python",
   "name": "python",
   "nbconvert_exporter": "python",
   "pygments_lexer": "ipython3",
   "version": "3.7.16"
  }
 },
 "nbformat": 4,
 "nbformat_minor": 2
}
