{
 "cells": [
  {
   "cell_type": "code",
   "execution_count": 14,
   "metadata": {},
   "outputs": [
    {
     "ename": "ValueError",
     "evalue": "Mime type rendering requires nbformat>=4.2.0 but it is not installed",
     "output_type": "error",
     "traceback": [
      "\u001b[0;31m---------------------------------------------------------------------------\u001b[0m",
      "\u001b[0;31mValueError\u001b[0m                                Traceback (most recent call last)",
      "Cell \u001b[0;32mIn[14], line 60\u001b[0m\n\u001b[1;32m     44\u001b[0m fig\u001b[38;5;241m.\u001b[39madd_trace(go\u001b[38;5;241m.\u001b[39mScatter(\n\u001b[1;32m     45\u001b[0m     x\u001b[38;5;241m=\u001b[39mx_coords,\n\u001b[1;32m     46\u001b[0m     y\u001b[38;5;241m=\u001b[39my_coords,\n\u001b[0;32m   (...)\u001b[0m\n\u001b[1;32m     50\u001b[0m     marker\u001b[38;5;241m=\u001b[39m\u001b[38;5;28mdict\u001b[39m(color\u001b[38;5;241m=\u001b[39m\u001b[38;5;124m'\u001b[39m\u001b[38;5;124mlightblue\u001b[39m\u001b[38;5;124m'\u001b[39m, size\u001b[38;5;241m=\u001b[39m\u001b[38;5;241m5\u001b[39m)\n\u001b[1;32m     51\u001b[0m ))\n\u001b[1;32m     53\u001b[0m fig\u001b[38;5;241m.\u001b[39mupdate_layout(\n\u001b[1;32m     54\u001b[0m     title\u001b[38;5;241m=\u001b[39m\u001b[38;5;124m'\u001b[39m\u001b[38;5;124mPhylogenetic Tree\u001b[39m\u001b[38;5;124m'\u001b[39m,\n\u001b[1;32m     55\u001b[0m     showlegend\u001b[38;5;241m=\u001b[39m\u001b[38;5;28;01mFalse\u001b[39;00m,\n\u001b[1;32m     56\u001b[0m     xaxis\u001b[38;5;241m=\u001b[39m\u001b[38;5;28mdict\u001b[39m(showticklabels\u001b[38;5;241m=\u001b[39m\u001b[38;5;28;01mFalse\u001b[39;00m),\n\u001b[1;32m     57\u001b[0m     yaxis\u001b[38;5;241m=\u001b[39m\u001b[38;5;28mdict\u001b[39m(showticklabels\u001b[38;5;241m=\u001b[39m\u001b[38;5;28;01mFalse\u001b[39;00m)\n\u001b[1;32m     58\u001b[0m )\n\u001b[0;32m---> 60\u001b[0m \u001b[43mfig\u001b[49m\u001b[38;5;241;43m.\u001b[39;49m\u001b[43mshow\u001b[49m\u001b[43m(\u001b[49m\u001b[43m)\u001b[49m\n",
      "File \u001b[0;32m~/anaconda3/envs/biopython/lib/python3.8/site-packages/plotly/basedatatypes.py:3410\u001b[0m, in \u001b[0;36mBaseFigure.show\u001b[0;34m(self, *args, **kwargs)\u001b[0m\n\u001b[1;32m   3377\u001b[0m \u001b[38;5;250m\u001b[39m\u001b[38;5;124;03m\"\"\"\u001b[39;00m\n\u001b[1;32m   3378\u001b[0m \u001b[38;5;124;03mShow a figure using either the default renderer(s) or the renderer(s)\u001b[39;00m\n\u001b[1;32m   3379\u001b[0m \u001b[38;5;124;03mspecified by the renderer argument\u001b[39;00m\n\u001b[0;32m   (...)\u001b[0m\n\u001b[1;32m   3406\u001b[0m \u001b[38;5;124;03mNone\u001b[39;00m\n\u001b[1;32m   3407\u001b[0m \u001b[38;5;124;03m\"\"\"\u001b[39;00m\n\u001b[1;32m   3408\u001b[0m \u001b[38;5;28;01mimport\u001b[39;00m \u001b[38;5;21;01mplotly\u001b[39;00m\u001b[38;5;21;01m.\u001b[39;00m\u001b[38;5;21;01mio\u001b[39;00m \u001b[38;5;28;01mas\u001b[39;00m \u001b[38;5;21;01mpio\u001b[39;00m\n\u001b[0;32m-> 3410\u001b[0m \u001b[38;5;28;01mreturn\u001b[39;00m \u001b[43mpio\u001b[49m\u001b[38;5;241;43m.\u001b[39;49m\u001b[43mshow\u001b[49m\u001b[43m(\u001b[49m\u001b[38;5;28;43mself\u001b[39;49m\u001b[43m,\u001b[49m\u001b[43m \u001b[49m\u001b[38;5;241;43m*\u001b[39;49m\u001b[43margs\u001b[49m\u001b[43m,\u001b[49m\u001b[43m \u001b[49m\u001b[38;5;241;43m*\u001b[39;49m\u001b[38;5;241;43m*\u001b[39;49m\u001b[43mkwargs\u001b[49m\u001b[43m)\u001b[49m\n",
      "File \u001b[0;32m~/anaconda3/envs/biopython/lib/python3.8/site-packages/plotly/io/_renderers.py:394\u001b[0m, in \u001b[0;36mshow\u001b[0;34m(fig, renderer, validate, **kwargs)\u001b[0m\n\u001b[1;32m    389\u001b[0m         \u001b[38;5;28;01mraise\u001b[39;00m \u001b[38;5;167;01mValueError\u001b[39;00m(\n\u001b[1;32m    390\u001b[0m             \u001b[38;5;124m\"\u001b[39m\u001b[38;5;124mMime type rendering requires ipython but it is not installed\u001b[39m\u001b[38;5;124m\"\u001b[39m\n\u001b[1;32m    391\u001b[0m         )\n\u001b[1;32m    393\u001b[0m     \u001b[38;5;28;01mif\u001b[39;00m \u001b[38;5;129;01mnot\u001b[39;00m nbformat \u001b[38;5;129;01mor\u001b[39;00m Version(nbformat\u001b[38;5;241m.\u001b[39m__version__) \u001b[38;5;241m<\u001b[39m Version(\u001b[38;5;124m\"\u001b[39m\u001b[38;5;124m4.2.0\u001b[39m\u001b[38;5;124m\"\u001b[39m):\n\u001b[0;32m--> 394\u001b[0m         \u001b[38;5;28;01mraise\u001b[39;00m \u001b[38;5;167;01mValueError\u001b[39;00m(\n\u001b[1;32m    395\u001b[0m             \u001b[38;5;124m\"\u001b[39m\u001b[38;5;124mMime type rendering requires nbformat>=4.2.0 but it is not installed\u001b[39m\u001b[38;5;124m\"\u001b[39m\n\u001b[1;32m    396\u001b[0m         )\n\u001b[1;32m    398\u001b[0m     ipython_display\u001b[38;5;241m.\u001b[39mdisplay(bundle, raw\u001b[38;5;241m=\u001b[39m\u001b[38;5;28;01mTrue\u001b[39;00m)\n\u001b[1;32m    400\u001b[0m \u001b[38;5;66;03m# external renderers\u001b[39;00m\n",
      "\u001b[0;31mValueError\u001b[0m: Mime type rendering requires nbformat>=4.2.0 but it is not installed"
     ]
    }
   ],
   "source": [
    "import matplotlib.pyplot as plt\n",
    "from Bio import Phylo\n",
    "import plotly.graph_objects as go\n",
    "\n",
    "# 读取Newick文件\n",
    "tree = Phylo.read('treefile.newick', 'newick')\n",
    "\n",
    "# 提取树的节点和分支\n",
    "def get_tree_layout(tree):\n",
    "    coords = {}\n",
    "    labels = {}\n",
    "    def add_node(node, x=0, y=0, depth=1):\n",
    "        coords[node] = (x, y)\n",
    "        labels[node] = node.name\n",
    "        y_coords = [y]\n",
    "        for clade in node.clades:\n",
    "            new_y = y - len(y_coords) * 0.1\n",
    "            y_coords.append(add_node(clade, x + depth, new_y, depth + 1)[1])\n",
    "        return (x, (sum(y_coords) / len(y_coords))) if len(y_coords) > 1 else (x, y)\n",
    "\n",
    "    add_node(tree.root)\n",
    "    return coords, labels\n",
    "\n",
    "coords, labels = get_tree_layout(tree)\n",
    "\n",
    "# 转换为 Plotly 需要的数据格式\n",
    "x_coords = [coords[node][0] for node in tree.get_terminals()]\n",
    "y_coords = [coords[node][1] for node in tree.get_terminals()]\n",
    "text_labels = [labels[node] for node in tree.get_terminals()]\n",
    "\n",
    "fig = go.Figure()\n",
    "\n",
    "for node in tree.get_nonterminals():\n",
    "    for clade in node.clades:\n",
    "        x = [coords[node][0], coords[clade][0]]\n",
    "        y = [coords[node][1], coords[clade][1]]\n",
    "        fig.add_trace(go.Scatter(\n",
    "            x=x, y=y,\n",
    "            mode='lines',\n",
    "            line=dict(color='black')\n",
    "        ))\n",
    "\n",
    "# 添加叶节点\n",
    "fig.add_trace(go.Scatter(\n",
    "    x=x_coords,\n",
    "    y=y_coords,\n",
    "    mode='markers+text',\n",
    "    text=text_labels,\n",
    "    textposition='middle right',\n",
    "    marker=dict(color='lightblue', size=5)\n",
    "))\n",
    "\n",
    "fig.update_layout(\n",
    "    title='Phylogenetic Tree',\n",
    "    showlegend=False,\n",
    "    xaxis=dict(showticklabels=False),\n",
    "    yaxis=dict(showticklabels=False)\n",
    ")\n",
    "\n",
    "fig.show()\n"
   ]
  },
  {
   "cell_type": "code",
   "execution_count": 13,
   "metadata": {},
   "outputs": [
    {
     "name": "stdout",
     "output_type": "stream",
     "text": [
      "Looking in indexes: https://pypi.tuna.tsinghua.edu.cn/simple\n",
      "Collecting nbformat==4.2.0\n",
      "  Downloading https://pypi.tuna.tsinghua.edu.cn/packages/f2/fd/f3d5316d3d3c295993cf7d08d0105f2454acef9db363b33b72e3aed0808e/nbformat-4.2.0-py2.py3-none-any.whl (153 kB)\n",
      "\u001b[2K     \u001b[90m━━━━━━━━━━━━━━━━━━━━━━━━━━━━━━━━━━━━━━━\u001b[0m \u001b[32m153.3/153.3 kB\u001b[0m \u001b[31m1.3 MB/s\u001b[0m eta \u001b[36m0:00:00\u001b[0ma \u001b[36m0:00:01\u001b[0m\n",
      "\u001b[?25hCollecting ipython-genutils (from nbformat==4.2.0)\n",
      "  Downloading https://pypi.tuna.tsinghua.edu.cn/packages/fa/bc/9bd3b5c2b4774d5f33b2d544f1460be9df7df2fe42f352135381c347c69a/ipython_genutils-0.2.0-py2.py3-none-any.whl (26 kB)\n",
      "Requirement already satisfied: jsonschema!=2.5.0,>=2.4 in /home/thezsd/anaconda3/envs/biopython/lib/python3.8/site-packages (from nbformat==4.2.0) (4.22.0)\n",
      "Requirement already satisfied: jupyter-core in /home/thezsd/anaconda3/envs/biopython/lib/python3.8/site-packages (from nbformat==4.2.0) (5.7.1)\n",
      "Requirement already satisfied: traitlets>=4.1 in /home/thezsd/anaconda3/envs/biopython/lib/python3.8/site-packages (from nbformat==4.2.0) (5.14.1)\n",
      "Requirement already satisfied: attrs>=22.2.0 in /home/thezsd/anaconda3/envs/biopython/lib/python3.8/site-packages (from jsonschema!=2.5.0,>=2.4->nbformat==4.2.0) (23.2.0)\n",
      "Requirement already satisfied: importlib-resources>=1.4.0 in /home/thezsd/anaconda3/envs/biopython/lib/python3.8/site-packages (from jsonschema!=2.5.0,>=2.4->nbformat==4.2.0) (6.1.1)\n",
      "Requirement already satisfied: jsonschema-specifications>=2023.03.6 in /home/thezsd/anaconda3/envs/biopython/lib/python3.8/site-packages (from jsonschema!=2.5.0,>=2.4->nbformat==4.2.0) (2023.12.1)\n",
      "Requirement already satisfied: pkgutil-resolve-name>=1.3.10 in /home/thezsd/anaconda3/envs/biopython/lib/python3.8/site-packages (from jsonschema!=2.5.0,>=2.4->nbformat==4.2.0) (1.3.10)\n",
      "Requirement already satisfied: referencing>=0.28.4 in /home/thezsd/anaconda3/envs/biopython/lib/python3.8/site-packages (from jsonschema!=2.5.0,>=2.4->nbformat==4.2.0) (0.35.1)\n",
      "Requirement already satisfied: rpds-py>=0.7.1 in /home/thezsd/anaconda3/envs/biopython/lib/python3.8/site-packages (from jsonschema!=2.5.0,>=2.4->nbformat==4.2.0) (0.18.1)\n",
      "Requirement already satisfied: platformdirs>=2.5 in /home/thezsd/anaconda3/envs/biopython/lib/python3.8/site-packages (from jupyter-core->nbformat==4.2.0) (4.2.0)\n",
      "Requirement already satisfied: zipp>=3.1.0 in /home/thezsd/anaconda3/envs/biopython/lib/python3.8/site-packages (from importlib-resources>=1.4.0->jsonschema!=2.5.0,>=2.4->nbformat==4.2.0) (3.17.0)\n",
      "Installing collected packages: ipython-genutils, nbformat\n",
      "  Attempting uninstall: nbformat\n",
      "    Found existing installation: nbformat 5.10.4\n",
      "    Uninstalling nbformat-5.10.4:\n",
      "      Successfully uninstalled nbformat-5.10.4\n",
      "Successfully installed ipython-genutils-0.2.0 nbformat-4.2.0\n"
     ]
    }
   ],
   "source": [
    "! pip install  nbformat==4.2.0"
   ]
  },
  {
   "cell_type": "markdown",
   "metadata": {},
   "source": [
    "clustalo -i /mnt/e/SDT/output/CORASON/pre_corason_all_top1650_400_1000.fasta -o aligned_sequences.aln --outfmt=clu\n",
    "iqtree2 -s aligned_sequences.aln -m MFP -bb 1000 -alrt 1000 -nt AUTO --redo\n",
    "\n"
   ]
  }
 ],
 "metadata": {
  "kernelspec": {
   "display_name": "biopython",
   "language": "python",
   "name": "python3"
  },
  "language_info": {
   "codemirror_mode": {
    "name": "ipython",
    "version": 3
   },
   "file_extension": ".py",
   "mimetype": "text/x-python",
   "name": "python",
   "nbconvert_exporter": "python",
   "pygments_lexer": "ipython3",
   "version": "3.8.18"
  }
 },
 "nbformat": 4,
 "nbformat_minor": 2
}
